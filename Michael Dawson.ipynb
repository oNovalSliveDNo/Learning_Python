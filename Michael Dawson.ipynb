{
 "cells": [
  {
   "cell_type": "code",
   "execution_count": 1,
   "id": "5bc167bc-21ed-422f-92ea-f24b1d7bc8e7",
   "metadata": {},
   "outputs": [],
   "source": [
    "# Michael Dawson\n",
    "# Python Programming for the absolute Beginner\n",
    "# 3rd Edition\n",
    "# 2020"
   ]
  },
  {
   "cell_type": "code",
   "execution_count": 3,
   "id": "146619f5-2523-438e-8fe3-9f7dac92e02d",
   "metadata": {},
   "outputs": [
    {
     "name": "stdout",
     "output_type": "stream",
     "text": [
      "Game Over\n"
     ]
    },
    {
     "name": "stdin",
     "output_type": "stream",
     "text": [
      "\n",
      "\n",
      "Нажмите Enter, чтобы выйти. \n"
     ]
    },
    {
     "data": {
      "text/plain": [
       "''"
      ]
     },
     "execution_count": 3,
     "metadata": {},
     "output_type": "execute_result"
    }
   ],
   "source": [
    "# Глава 1. Начало работы. Программа Game Over\n",
    "# Game Over\n",
    "# Демонстрирует работу функции print\n",
    "print(\"Game Over\")\n",
    "input(\"\\n\\nНажмите Enter, чтобы выйти.\")"
   ]
  },
  {
   "cell_type": "code",
   "execution_count": 4,
   "id": "26cd4de0-4cc5-4f27-972a-1efdd50f64d8",
   "metadata": {},
   "outputs": [
    {
     "name": "stderr",
     "output_type": "stream",
     "text": [
      "<>:13: SyntaxWarning: invalid escape sequence '\\_'\n",
      "<>:13: SyntaxWarning: invalid escape sequence '\\_'\n",
      "C:\\Users\\novos\\AppData\\Local\\Temp\\ipykernel_16796\\981995939.py:13: SyntaxWarning: invalid escape sequence '\\_'\n",
      "  \"\"\"\n"
     ]
    },
    {
     "name": "stdout",
     "output_type": "stream",
     "text": [
      "Программа 'Game Over' 2.0\n",
      "То же самое сообщение\n",
      "Только чуть-чуть побольше\n",
      "Вот оно...\n",
      "\n",
      "      _____       ___       ___  ___   _____\n",
      "     / ____|     /   |     /   |/   | |  ___|\n",
      "     | |        / /| |    / /|   /| | | |__\n",
      "     | |  _    / ___ |   / / |__/ | | |  __|\n",
      "     | |_| |  / /  | |  / /       | | | |___\n",
      "     \\_____/ /_/   |_| /_/        |_| |_____|\n",
      "\n",
      "      _____   _     _   _____   _____\n",
      "     /  _  \\ | |   / / |  ___| |  _  \\\n",
      "     | | | | | |  / /  | |__   | |_| |\n",
      "     | | | | | | / /   |  __|  |  _  /\n",
      "     | |_| | | |/ /    | |___  | | \\ \\\n",
      "     \\_____/ |___/     |_____| |_|  \\_\\\n",
      "    \n"
     ]
    },
    {
     "name": "stdin",
     "output_type": "stream",
     "text": [
      "\n",
      "\n",
      "Нажмите Enter, чтобы выйти. \n"
     ]
    },
    {
     "data": {
      "text/plain": [
       "''"
      ]
     },
     "execution_count": 4,
     "metadata": {},
     "output_type": "execute_result"
    }
   ],
   "source": [
    "# Глава 2. Типы, переменные и основы ввода-вывода. Программа \"Бесполезные факты\"\n",
    "\n",
    "# Game Over - версия 2\n",
    "# Показывает разные приемы работы со строками\n",
    "print(\"Программа 'Game Over' 2.0\")\n",
    "print(\"То же\", \"самое\", \"сообщение\")\n",
    "print(\"Только\",\n",
    "      \"чуть-чуть\",\n",
    "      \"побольше\")\n",
    "print(\"Вот\", end=\" \")\n",
    "print(\"оно...\")\n",
    "print(\n",
    "    \"\"\"\n",
    "      _____       ___       ___  ___   _____\n",
    "     / ____|     /   |     /   |/   | |  ___|\n",
    "     | |        / /| |    / /|   /| | | |__\n",
    "     | |  _    / ___ |   / / |__/ | | |  __|\n",
    "     | |_| |  / /  | |  / /       | | | |___\n",
    "     \\_____/ /_/   |_| /_/        |_| |_____|\n",
    "\n",
    "      _____   _     _   _____   _____\n",
    "     /  _  \\\\ | |   / / |  ___| |  _  \\\\\n",
    "     | | | | | |  / /  | |__   | |_| |\n",
    "     | | | | | | / /   |  __|  |  _  /\n",
    "     | |_| | | |/ /    | |___  | | \\ \\\\\n",
    "     \\_____/ |___/     |_____| |_|  \\_\\\\\n",
    "    \"\"\"\n",
    "    )\n",
    "input(\"\\n\\nНажмите Enter, чтобы выйти.\")"
   ]
  },
  {
   "cell_type": "code",
   "execution_count": 5,
   "id": "baecb41d-f1c0-4c8d-b8c6-88bfa46f0702",
   "metadata": {},
   "outputs": [
    {
     "name": "stdout",
     "output_type": "stream",
     "text": [
      "\t\t\t Воображаемые благодарности\n",
      "\t\t\t \\ \\ \\ \\ \\ \\ \\\n",
      "\t\t\tразработчика игры\n",
      "\t\t\tМайкла Доусона\n",
      "\t\t\t \\ \\ \\ \\ \\ \\ \\\n",
      "\n",
      "Отдельное спасибо хотелось бы сказать:\n",
      "моему парикмахеру Генри по прозвищу 'Великолепный', который не знает слова \"невозможно\".\n",
      "\u0007\n"
     ]
    },
    {
     "name": "stdin",
     "output_type": "stream",
     "text": [
      "\n",
      "\n",
      "Нажмите Enter, чтобы выйти. \n"
     ]
    },
    {
     "data": {
      "text/plain": [
       "''"
      ]
     },
     "execution_count": 5,
     "metadata": {},
     "output_type": "execute_result"
    }
   ],
   "source": [
    "# Воображаемые благодарности\n",
    "# Образец применения escape-последовательностей\n",
    "print(\"\\t\\t\\t Воображаемые благодарности\")\n",
    "print(\"\\t\\t\\t \\\\ \\\\ \\\\ \\\\ \\\\ \\\\ \\\\\")\n",
    "print(\"\\t\\t\\tразработчика игры\")\n",
    "print(\"\\t\\t\\tМайкла Доусона\")\n",
    "print(\"\\t\\t\\t \\\\ \\\\ \\\\ \\\\ \\\\ \\\\ \\\\\")\n",
    "print(\"\\nОтдельное спасибо хотелось бы сказать:\")\n",
    "print(\"моему парикмахеру Генри по прозвищу \\'Великолепный\\', который не знает слова \\\"невозможно\\\".\")\n",
    "# Звучит системный динамик\n",
    "print(\"\\a\")\n",
    "input(\"\\n\\nНажмите Enter, чтобы выйти.\")"
   ]
  },
  {
   "cell_type": "code",
   "execution_count": 6,
   "id": "49ee7f7f-56d2-4c67-95c3-2f8f1a29047a",
   "metadata": {},
   "outputs": [
    {
     "name": "stdout",
     "output_type": "stream",
     "text": [
      "Две строки можно сцепить с помощью оператора '+'.\n",
      "\n",
      "Эта строка вряд ли удивит вас. Но интересно, что она - \n",
      "одна длинная-длинная строка, сцепленная из двадцати двух\n",
      "отдельных строк, разбитых на шесть строк. Достаточно ли вы впечатлены? Ну? хватит,\n",
      "вот наша длинная строка и закончилась!\n",
      "\n",
      "Если текст нравится, его можно и повторить. К примеру,\n",
      "кто не любит пирожных? Только дураки не любят пирожных. А\n",
      "раз мы люди честные, то выскажемся о своих симпатиях\n",
      "откровенно:\n",
      "ПирожныеПирожныеПирожныеПирожныеПирожныеПирожныеПирожныеПирожныеПирожныеПирожные\n"
     ]
    },
    {
     "name": "stdin",
     "output_type": "stream",
     "text": [
      "\n",
      "\n",
      "Нажмите Enter, чтобы выйти. \n"
     ]
    },
    {
     "data": {
      "text/plain": [
       "''"
      ]
     },
     "execution_count": 6,
     "metadata": {},
     "output_type": "execute_result"
    }
   ],
   "source": [
    "# Забавные строки\n",
    "# Демонстрирует сцепление и повторение строк\n",
    "print(\"Две строки можно \" + \"сцепить с помощью оператора '+'.\")\n",
    "print(\"\\nЭта строка \" + \"вряд ли \" + \"удив\" + \"ит вас. \" \\\n",
    "      + \"Но интересно, \" + \"что\" + \" она - \\n\" + \"одна длинная-длин\" \\\n",
    "      + \"на\" + \"я\" + \" строка, сцепленная \" \\\n",
    "      + \"из \" + \"двадцати двух\\n\" + \"отдельных строк, разбитых \" \\\n",
    "      + \"на шесть строк.\" + \" Достаточно ли вы\" + \" впечатлены? \" + \"Ну? хватит,\\n\" \\\n",
    "      + \"вот \" + \"наша \" + \"длинная\" + \" строка и закончилась!\")\n",
    "print(\"\\nЕсли текст нравится, его можно и повторить. К примеру,\")\n",
    "print(\"кто не любит пирожных? Только дураки не любят пирожных. А\")\n",
    "print(\"раз мы люди честные, то выскажемся о своих симпатиях\")\n",
    "print(\"откровенно:\")\n",
    "print(\"Пирожные\" * 10)\n",
    "input(\"\\n\\nНажмите Enter, чтобы выйти.\")"
   ]
  },
  {
   "cell_type": "code",
   "execution_count": 7,
   "id": "b806e547-a423-4196-bc2c-4c1f31d1f661",
   "metadata": {},
   "outputs": [
    {
     "name": "stdout",
     "output_type": "stream",
     "text": [
      "Если беременная самка бегемота массой 800 кг родит детеныша массой 40 кг.\n",
      "но затем съест 20 кг корма, то сколько она будет после всего этого весить?\n"
     ]
    },
    {
     "name": "stdin",
     "output_type": "stream",
     "text": [
      "Чтобы узнать, нажмите Enter. \n"
     ]
    },
    {
     "name": "stdout",
     "output_type": "stream",
     "text": [
      "800 - 40 + 20 = 780\n",
      "\n",
      "Если студент, возвращаясь с успешно сданного экзамена. на радостях\n",
      "купил каждому из 6 друзей по 3 бутылки пива, то сколько всего бутылок пива куплено?\n"
     ]
    },
    {
     "name": "stdin",
     "output_type": "stream",
     "text": [
      "Чтобы узнать, нажмите Enter. \n"
     ]
    },
    {
     "name": "stdout",
     "output_type": "stream",
     "text": [
      "6 * 3 = 18\n",
      "\n",
      "Eсли в ресторане вам с приятелями принесли счет на 19 долларов (считая чаевые).\n",
      "и вы решили скинуться поровну на четверых, то сколько придется с каждого?\n"
     ]
    },
    {
     "name": "stdin",
     "output_type": "stream",
     "text": [
      "Чтобы узнать, нажмите Enter. \n"
     ]
    },
    {
     "name": "stdout",
     "output_type": "stream",
     "text": [
      "19 / 4 = 4.75\n",
      "\n",
      "Если четверо пиратов найдут ларчик, в котором ровно 107 золотых монет, и\n",
      "решат разделить добычу поровну, то сколько целых монет достанется каждому?\n"
     ]
    },
    {
     "name": "stdin",
     "output_type": "stream",
     "text": [
      "Чтобы узнать, нажмите Enter. \n"
     ]
    },
    {
     "name": "stdout",
     "output_type": "stream",
     "text": [
      "107 // 4 = 26\n",
      "\n",
      "Ecли те же самые четверо пиратов разделят те же 107 монет из ларчика поровну.\n",
      "то сколько останется ничейных монет?\n"
     ]
    },
    {
     "name": "stdin",
     "output_type": "stream",
     "text": [
      "Чтобы узнать, нажмите Enter. \n"
     ]
    },
    {
     "name": "stdout",
     "output_type": "stream",
     "text": [
      "107% 4 = 3\n"
     ]
    },
    {
     "name": "stdin",
     "output_type": "stream",
     "text": [
      "\n",
      "\n",
      "Нажмите Enter, чтобы выйти. \n"
     ]
    },
    {
     "data": {
      "text/plain": [
       "''"
      ]
     },
     "execution_count": 7,
     "metadata": {},
     "output_type": "execute_result"
    }
   ],
   "source": [
    "# Текстовые задачи\n",
    "# Демонстрирует математические операции\n",
    "print(\"Если беременная самка бегемота массой 800 кг родит детеныша массой 40 кг.\")\n",
    "print(\"но затем съест 20 кг корма, то сколько она будет после всего этого весить?\")\n",
    "input(\"Чтобы узнать, нажмите Enter.\")\n",
    "print(\"800 - 40 + 20 =\", 800 - 40 + 20)\n",
    "print(\"\\nЕсли студент, возвращаясь с успешно сданного экзамена. на радостях\")\n",
    "print(\"купил каждому из 6 друзей по 3 бутылки пива, то сколько всего бутылок пива куплено?\")\n",
    "input(\"Чтобы узнать, нажмите Enter.\")\n",
    "print(\"6 * 3 =\", 6 * 3)\n",
    "print(\"\\nEсли в ресторане вам с приятелями принесли счет на 19 долларов (считая чаевые).\")\n",
    "print(\"и вы решили скинуться поровну на четверых, то сколько придется с каждого?\")\n",
    "input(\"Чтобы узнать, нажмите Enter.\")\n",
    "print(\"19 / 4 =\", 19 / 4)\n",
    "print(\"\\nЕсли четверо пиратов найдут ларчик, в котором ровно 107 золотых монет, и\")\n",
    "print(\"решат разделить добычу поровну, то сколько целых монет достанется каждому?\")\n",
    "input(\"Чтобы узнать, нажмите Enter.\")\n",
    "print(\"107 // 4 =\", 107 // 4)\n",
    "print(\"\\nEcли те же самые четверо пиратов разделят те же 107 монет из ларчика поровну.\")\n",
    "print(\"то сколько останется ничейных монет?\")\n",
    "input(\"Чтобы узнать, нажмите Enter.\")\n",
    "print(\"107% 4 =\", 107% 4)\n",
    "input(\"\\n\\nНажмите Enter, чтобы выйти.\")"
   ]
  },
  {
   "cell_type": "code",
   "execution_count": 9,
   "id": "0e5b56a2-2853-4314-9f9d-cca23ec89c84",
   "metadata": {},
   "outputs": [
    {
     "name": "stdout",
     "output_type": "stream",
     "text": [
      "Вася\n",
      "Привет, Вася\n"
     ]
    },
    {
     "name": "stdin",
     "output_type": "stream",
     "text": [
      "\n",
      "\n",
      "Нажмите Enter, чтобы выйти. \n"
     ]
    },
    {
     "data": {
      "text/plain": [
       "''"
      ]
     },
     "execution_count": 9,
     "metadata": {},
     "output_type": "execute_result"
    }
   ],
   "source": [
    "# Привет\n",
    "# Демонстрирует использование переменных\n",
    "name = \"Вася\"\n",
    "print(name)\n",
    "print(\"Привет,\", name)\n",
    "input(\"\\n\\nНажмите Enter, чтобы выйти.\")"
   ]
  },
  {
   "cell_type": "code",
   "execution_count": null,
   "id": "c7c90e8a-02fc-48aa-9f03-3776daa14eec",
   "metadata": {},
   "outputs": [],
   "source": [
    "# Персональный привет\n",
    "# Демонстрирует получение пользовательского ввода\n",
    "name = input(\"Привет. Как тебя зовут? \")\n",
    "print(name)\n",
    "print(\"Привет,\", name)\n",
    "input(\"\\n\\nHажмите Enter, чтобы выйти.\")"
   ]
  },
  {
   "cell_type": "code",
   "execution_count": null,
   "id": "d42eb328-c3b7-458b-9634-cbc8795f13dc",
   "metadata": {},
   "outputs": [],
   "source": []
  },
  {
   "cell_type": "code",
   "execution_count": null,
   "id": "a96b8a98-cfce-496b-879e-84761def0745",
   "metadata": {},
   "outputs": [],
   "source": []
  },
  {
   "cell_type": "code",
   "execution_count": null,
   "id": "29b39b2a-f626-4de1-aa8f-131ee8cb3acb",
   "metadata": {},
   "outputs": [],
   "source": []
  },
  {
   "cell_type": "code",
   "execution_count": null,
   "id": "fb7f3709-ac6b-4fe7-ae8f-a6bc0d16e01f",
   "metadata": {},
   "outputs": [],
   "source": []
  },
  {
   "cell_type": "code",
   "execution_count": null,
   "id": "4e582aa8-3e8a-405e-8f6c-7f9ad1213dde",
   "metadata": {},
   "outputs": [],
   "source": []
  },
  {
   "cell_type": "code",
   "execution_count": null,
   "id": "83177b6a-4784-4459-ace4-633a6eb2b69b",
   "metadata": {},
   "outputs": [],
   "source": []
  },
  {
   "cell_type": "code",
   "execution_count": null,
   "id": "1f93bc51-5560-4a8e-a667-59340cb54627",
   "metadata": {},
   "outputs": [],
   "source": []
  },
  {
   "cell_type": "code",
   "execution_count": null,
   "id": "09c3b91a-cc2d-4c75-b5be-7f51b2d29f93",
   "metadata": {},
   "outputs": [],
   "source": []
  }
 ],
 "metadata": {
  "kernelspec": {
   "display_name": "Python 3 (ipykernel)",
   "language": "python",
   "name": "python3"
  },
  "language_info": {
   "codemirror_mode": {
    "name": "ipython",
    "version": 3
   },
   "file_extension": ".py",
   "mimetype": "text/x-python",
   "name": "python",
   "nbconvert_exporter": "python",
   "pygments_lexer": "ipython3",
   "version": "3.12.0"
  }
 },
 "nbformat": 4,
 "nbformat_minor": 5
}
